{
  "nbformat": 4,
  "nbformat_minor": 0,
  "metadata": {
    "colab": {
      "provenance": []
    },
    "kernelspec": {
      "name": "python3",
      "display_name": "Python 3"
    },
    "language_info": {
      "name": "python"
    }
  },
  "cells": [
    {
      "cell_type": "markdown",
      "source": [
        "# Visualizing Dummy Data"
      ],
      "metadata": {
        "id": "tt8EWQSNXbLg"
      }
    },
    {
      "cell_type": "markdown",
      "source": [
        "**Dummy data**"
      ],
      "metadata": {
        "id": "8uGlgTw_Xqig"
      }
    },
    {
      "cell_type": "code",
      "execution_count": 3,
      "metadata": {
        "id": "RFwt80i2K_5O"
      },
      "outputs": [],
      "source": [
        "import numpy as np\n",
        "import matplotlib.pyplot as plt\n",
        "from sklearn.linear_model import LinearRegression\n",
        "from sklearn.preprocessing import PolynomialFeatures\n",
        "\n",
        "X=np.array([9,8,7,6,5]).reshape(-1,1)\n",
        "y=np.array([1,3,2,3,5])"
      ]
    },
    {
      "cell_type": "markdown",
      "source": [
        "- Linear Regression"
      ],
      "metadata": {
        "id": "xehUq7mqakhp"
      }
    },
    {
      "cell_type": "code",
      "source": [
        "linear_model=LinearRegression()\n",
        "linear_model.fit(X,y)\n",
        "y_pred=linear_model.predict(X)\n"
      ],
      "metadata": {
        "id": "bkaehfYKapmA"
      },
      "execution_count": 4,
      "outputs": []
    },
    {
      "cell_type": "markdown",
      "source": [
        "**Polynomical Regression(degree 2)**"
      ],
      "metadata": {
        "id": "HpUVzf-Fa10R"
      }
    },
    {
      "cell_type": "code",
      "source": [
        "poly=PolynomialFeatures(degree=2)\n",
        "X_poly=poly.fit_transform(X)\n",
        "poly_model=LinearRegression()\n",
        "poly_model.fit(X_poly,y)\n",
        "y_poly_pred=poly_model.predict(X_poly)\n"
      ],
      "metadata": {
        "id": "hpH6fSyJa_Ko"
      },
      "execution_count": 7,
      "outputs": []
    },
    {
      "cell_type": "markdown",
      "source": [
        "**Plot**"
      ],
      "metadata": {
        "id": "NoeqY6_9cV7p"
      }
    },
    {
      "cell_type": "code",
      "source": [
        "plt.scatter(X_dummy,y_dummy,color='red',label='Actual')\n",
        "plt.plot(X_dummy, y_pred,label='Linear Fit',color='blue')\n",
        "plt.plot(X_dummy, y_poly_pred,label='Polynomial Fit(deg=2)',color='green')\n",
        "plt.title(\"Linear vs Polynomial Regression\")\n",
        "plt.xlabel(\"X\")\n",
        "plt.ylabel(\"y\")\n",
        "plt.legend()\n",
        "plt.grid(True)\n",
        "plt.show()"
      ],
      "metadata": {
        "colab": {
          "base_uri": "https://localhost:8080/",
          "height": 211
        },
        "id": "nnhgUH4qcYYx",
        "outputId": "fa47875c-aa59-4a46-804a-72023f06a596"
      },
      "execution_count": 73,
      "outputs": [
        {
          "output_type": "error",
          "ename": "NameError",
          "evalue": "name 'X_dummy' is not defined",
          "traceback": [
            "\u001b[0;31m---------------------------------------------------------------------------\u001b[0m",
            "\u001b[0;31mNameError\u001b[0m                                 Traceback (most recent call last)",
            "\u001b[0;32m/tmp/ipython-input-2742668088.py\u001b[0m in \u001b[0;36m<cell line: 0>\u001b[0;34m()\u001b[0m\n\u001b[0;32m----> 1\u001b[0;31m \u001b[0mplt\u001b[0m\u001b[0;34m.\u001b[0m\u001b[0mscatter\u001b[0m\u001b[0;34m(\u001b[0m\u001b[0mX_dummy\u001b[0m\u001b[0;34m,\u001b[0m\u001b[0my_dummy\u001b[0m\u001b[0;34m,\u001b[0m\u001b[0mcolor\u001b[0m\u001b[0;34m=\u001b[0m\u001b[0;34m'red'\u001b[0m\u001b[0;34m,\u001b[0m\u001b[0mlabel\u001b[0m\u001b[0;34m=\u001b[0m\u001b[0;34m'Actual'\u001b[0m\u001b[0;34m)\u001b[0m\u001b[0;34m\u001b[0m\u001b[0;34m\u001b[0m\u001b[0m\n\u001b[0m\u001b[1;32m      2\u001b[0m \u001b[0mplt\u001b[0m\u001b[0;34m.\u001b[0m\u001b[0mplot\u001b[0m\u001b[0;34m(\u001b[0m\u001b[0mX_dummy\u001b[0m\u001b[0;34m,\u001b[0m \u001b[0my_pred\u001b[0m\u001b[0;34m,\u001b[0m\u001b[0mlabel\u001b[0m\u001b[0;34m=\u001b[0m\u001b[0;34m'Linear Fit'\u001b[0m\u001b[0;34m,\u001b[0m\u001b[0mcolor\u001b[0m\u001b[0;34m=\u001b[0m\u001b[0;34m'blue'\u001b[0m\u001b[0;34m)\u001b[0m\u001b[0;34m\u001b[0m\u001b[0;34m\u001b[0m\u001b[0m\n\u001b[1;32m      3\u001b[0m \u001b[0mplt\u001b[0m\u001b[0;34m.\u001b[0m\u001b[0mplot\u001b[0m\u001b[0;34m(\u001b[0m\u001b[0mX_dummy\u001b[0m\u001b[0;34m,\u001b[0m \u001b[0my_poly_pred\u001b[0m\u001b[0;34m,\u001b[0m\u001b[0mlabel\u001b[0m\u001b[0;34m=\u001b[0m\u001b[0;34m'Polynomial Fit(deg=2)'\u001b[0m\u001b[0;34m,\u001b[0m\u001b[0mcolor\u001b[0m\u001b[0;34m=\u001b[0m\u001b[0;34m'green'\u001b[0m\u001b[0;34m)\u001b[0m\u001b[0;34m\u001b[0m\u001b[0;34m\u001b[0m\u001b[0m\n\u001b[1;32m      4\u001b[0m \u001b[0mplt\u001b[0m\u001b[0;34m.\u001b[0m\u001b[0mtitle\u001b[0m\u001b[0;34m(\u001b[0m\u001b[0;34m\"Linear vs Polynomial Regression\"\u001b[0m\u001b[0;34m)\u001b[0m\u001b[0;34m\u001b[0m\u001b[0;34m\u001b[0m\u001b[0m\n\u001b[1;32m      5\u001b[0m \u001b[0mplt\u001b[0m\u001b[0;34m.\u001b[0m\u001b[0mxlabel\u001b[0m\u001b[0;34m(\u001b[0m\u001b[0;34m\"X\"\u001b[0m\u001b[0;34m)\u001b[0m\u001b[0;34m\u001b[0m\u001b[0;34m\u001b[0m\u001b[0m\n",
            "\u001b[0;31mNameError\u001b[0m: name 'X_dummy' is not defined"
          ]
        }
      ]
    },
    {
      "cell_type": "markdown",
      "source": [
        "# Real Dataset:Salary Prediction"
      ],
      "metadata": {
        "id": "nlKiuCw6hQcZ"
      }
    },
    {
      "cell_type": "code",
      "source": [
        "import pandas as pd\n",
        "from sklearn.model_selection import train_test_split\n",
        "from sklearn.metrics import mean_squared_error,r2_score"
      ],
      "metadata": {
        "id": "996AMNCBhY-4"
      },
      "execution_count": 18,
      "outputs": []
    },
    {
      "cell_type": "markdown",
      "source": [
        "**Load dataset**"
      ],
      "metadata": {
        "id": "DTcZbPTHi5HJ"
      }
    },
    {
      "cell_type": "code",
      "source": [
        "df=pd.read_csv(\"https://raw.githubusercontent.com/Naresh312143/mahalingpur-python-ml/refs/heads/main/Salary_Data.csv\")\n",
        "df.info()"
      ],
      "metadata": {
        "colab": {
          "base_uri": "https://localhost:8080/"
        },
        "id": "_eTHVlezi79o",
        "outputId": "12e71120-9149-4b3d-fc98-10b0289b79ad"
      },
      "execution_count": 19,
      "outputs": [
        {
          "output_type": "stream",
          "name": "stdout",
          "text": [
            "<class 'pandas.core.frame.DataFrame'>\n",
            "RangeIndex: 6704 entries, 0 to 6703\n",
            "Data columns (total 2 columns):\n",
            " #   Column               Non-Null Count  Dtype  \n",
            "---  ------               --------------  -----  \n",
            " 0   Years of Experience  6701 non-null   float64\n",
            " 1   Salary               6699 non-null   float64\n",
            "dtypes: float64(2)\n",
            "memory usage: 104.9 KB\n"
          ]
        }
      ]
    },
    {
      "cell_type": "code",
      "source": [
        "df.isnull().sum()"
      ],
      "metadata": {
        "colab": {
          "base_uri": "https://localhost:8080/",
          "height": 147
        },
        "id": "BoeVIbz2jvEZ",
        "outputId": "5d1e30fc-8e9b-4335-87c4-5a62287e9a7b"
      },
      "execution_count": 20,
      "outputs": [
        {
          "output_type": "execute_result",
          "data": {
            "text/plain": [
              "Years of Experience    3\n",
              "Salary                 5\n",
              "dtype: int64"
            ],
            "text/html": [
              "<div>\n",
              "<style scoped>\n",
              "    .dataframe tbody tr th:only-of-type {\n",
              "        vertical-align: middle;\n",
              "    }\n",
              "\n",
              "    .dataframe tbody tr th {\n",
              "        vertical-align: top;\n",
              "    }\n",
              "\n",
              "    .dataframe thead th {\n",
              "        text-align: right;\n",
              "    }\n",
              "</style>\n",
              "<table border=\"1\" class=\"dataframe\">\n",
              "  <thead>\n",
              "    <tr style=\"text-align: right;\">\n",
              "      <th></th>\n",
              "      <th>0</th>\n",
              "    </tr>\n",
              "  </thead>\n",
              "  <tbody>\n",
              "    <tr>\n",
              "      <th>Years of Experience</th>\n",
              "      <td>3</td>\n",
              "    </tr>\n",
              "    <tr>\n",
              "      <th>Salary</th>\n",
              "      <td>5</td>\n",
              "    </tr>\n",
              "  </tbody>\n",
              "</table>\n",
              "</div><br><label><b>dtype:</b> int64</label>"
            ]
          },
          "metadata": {},
          "execution_count": 20
        }
      ]
    },
    {
      "cell_type": "code",
      "source": [
        "df.dropna(inplace=True)\n",
        "df.isnull().sum()"
      ],
      "metadata": {
        "colab": {
          "base_uri": "https://localhost:8080/",
          "height": 147
        },
        "id": "Gd_uXLnAj1eZ",
        "outputId": "f55ff413-214d-41bc-de0a-ac1013ab4566"
      },
      "execution_count": 21,
      "outputs": [
        {
          "output_type": "execute_result",
          "data": {
            "text/plain": [
              "Years of Experience    0\n",
              "Salary                 0\n",
              "dtype: int64"
            ],
            "text/html": [
              "<div>\n",
              "<style scoped>\n",
              "    .dataframe tbody tr th:only-of-type {\n",
              "        vertical-align: middle;\n",
              "    }\n",
              "\n",
              "    .dataframe tbody tr th {\n",
              "        vertical-align: top;\n",
              "    }\n",
              "\n",
              "    .dataframe thead th {\n",
              "        text-align: right;\n",
              "    }\n",
              "</style>\n",
              "<table border=\"1\" class=\"dataframe\">\n",
              "  <thead>\n",
              "    <tr style=\"text-align: right;\">\n",
              "      <th></th>\n",
              "      <th>0</th>\n",
              "    </tr>\n",
              "  </thead>\n",
              "  <tbody>\n",
              "    <tr>\n",
              "      <th>Years of Experience</th>\n",
              "      <td>0</td>\n",
              "    </tr>\n",
              "    <tr>\n",
              "      <th>Salary</th>\n",
              "      <td>0</td>\n",
              "    </tr>\n",
              "  </tbody>\n",
              "</table>\n",
              "</div><br><label><b>dtype:</b> int64</label>"
            ]
          },
          "metadata": {},
          "execution_count": 21
        }
      ]
    },
    {
      "cell_type": "markdown",
      "source": [
        "- Train Test Split"
      ],
      "metadata": {
        "id": "gFx2DHlzjs_x"
      }
    },
    {
      "cell_type": "code",
      "source": [
        "X=df[[\"Years of Experience\"]]\n",
        "y=df[\"Salary\"]\n",
        "\n",
        "X_train,X_test,y_train,y_test=train_test_split(X,y,test_size=0.2,random_state=42)"
      ],
      "metadata": {
        "id": "giSVz779kXIA"
      },
      "execution_count": 22,
      "outputs": []
    },
    {
      "cell_type": "markdown",
      "source": [
        "## Linear Regression"
      ],
      "metadata": {
        "id": "WM2wMY_Dlkzp"
      }
    },
    {
      "cell_type": "markdown",
      "source": [
        "- Train Linear Regression"
      ],
      "metadata": {
        "id": "V8uWyaXXlqMS"
      }
    },
    {
      "cell_type": "code",
      "source": [
        "lin_model=LinearRegression()\n",
        "lin_model.fit(X_train,y_train)\n",
        "y_pred=lin_model.predict(X_test)"
      ],
      "metadata": {
        "id": "0hrcyOzAloxR"
      },
      "execution_count": 23,
      "outputs": []
    },
    {
      "cell_type": "markdown",
      "source": [
        "- Metrics"
      ],
      "metadata": {
        "id": "9LvfS0Fgl7Va"
      }
    },
    {
      "cell_type": "code",
      "source": [
        "mse_lin=mean_squared_error(y_test,y_pred)\n",
        "rmse_lin=np.sqrt(mse_lin)\n",
        "r2_lin=r2_score(y_test,y_pred)\n",
        "\n",
        "print(\"Linear Regression:\")\n",
        "print(\"MSE:\",mse_lin)\n",
        "print(\"RMSE:\",rmse_lin)\n",
        "print(\"R2 Score:\",r2_lin)"
      ],
      "metadata": {
        "colab": {
          "base_uri": "https://localhost:8080/"
        },
        "id": "69MknnIGl5wR",
        "outputId": "d9ea79dc-601f-4ff2-9f07-f2ec268b2b49"
      },
      "execution_count": 38,
      "outputs": [
        {
          "output_type": "stream",
          "name": "stdout",
          "text": [
            "Linear Regression:\n",
            "MSE: 946833177.7094355\n",
            "RMSE: 30770.654489455297\n",
            "R2 Score: 0.6669549610495003\n"
          ]
        }
      ]
    },
    {
      "cell_type": "markdown",
      "source": [
        "**Polynomial Regression(Degreess 2 and 4)**"
      ],
      "metadata": {
        "id": "qEsYX4rKOw8J"
      }
    },
    {
      "cell_type": "markdown",
      "source": [
        "**Degree2**"
      ],
      "metadata": {
        "id": "SwlnaO_jO-uR"
      }
    },
    {
      "cell_type": "code",
      "source": [
        "poly2=PolynomialFeatures(degree=2)\n",
        "X_train_poly2=poly2.fit_transform(X_train)\n",
        "X_test_poly2=poly2.transform(X_test)\n",
        "\n",
        "\n",
        "poly2_model=LinearRegression()\n",
        "poly2_model.fit(X_train_poly2,y_train)\n",
        "y_pred_poly2=poly2_model.predict(X_test_poly2)"
      ],
      "metadata": {
        "id": "KaAW0pr1nRrh"
      },
      "execution_count": 40,
      "outputs": []
    },
    {
      "cell_type": "code",
      "source": [
        "X_train_poly2"
      ],
      "metadata": {
        "colab": {
          "base_uri": "https://localhost:8080/"
        },
        "id": "nB_QOSI4Po5g",
        "outputId": "ad30bdde-ad91-45ee-c948-06b7e810e643"
      },
      "execution_count": 41,
      "outputs": [
        {
          "output_type": "execute_result",
          "data": {
            "text/plain": [
              "array([[  1.,   3.,   9.],\n",
              "       [  1.,   6.,  36.],\n",
              "       [  1.,  10., 100.],\n",
              "       ...,\n",
              "       [  1.,   7.,  49.],\n",
              "       [  1.,   8.,  64.],\n",
              "       [  1.,   2.,   4.]])"
            ]
          },
          "metadata": {},
          "execution_count": 41
        }
      ]
    },
    {
      "cell_type": "code",
      "source": [
        "X_test_poly2"
      ],
      "metadata": {
        "colab": {
          "base_uri": "https://localhost:8080/"
        },
        "id": "k1hNq4WQQ8Pg",
        "outputId": "540855db-8123-400d-de8e-c7a8635f48fc"
      },
      "execution_count": 42,
      "outputs": [
        {
          "output_type": "execute_result",
          "data": {
            "text/plain": [
              "array([[ 1.,  2.,  4.],\n",
              "       [ 1.,  8., 64.],\n",
              "       [ 1.,  3.,  9.],\n",
              "       ...,\n",
              "       [ 1.,  1.,  1.],\n",
              "       [ 1.,  3.,  9.],\n",
              "       [ 1.,  0.,  0.]])"
            ]
          },
          "metadata": {},
          "execution_count": 42
        }
      ]
    },
    {
      "cell_type": "markdown",
      "source": [
        "- Metrics"
      ],
      "metadata": {
        "id": "FRHjehy9RRAJ"
      }
    },
    {
      "cell_type": "code",
      "source": [
        "mse_poly2=mean_squared_error(y_test,y_pred_poly2)\n",
        "rmse_poly2=np.sqrt(mse_poly2)\n",
        "r2_poly2=r2_score(y_test,y_pred_poly2)"
      ],
      "metadata": {
        "id": "e6EdY8j8RIYA"
      },
      "execution_count": 43,
      "outputs": []
    },
    {
      "cell_type": "markdown",
      "source": [
        "**Degree 4**"
      ],
      "metadata": {
        "id": "zWgzcjg4Ri1x"
      }
    },
    {
      "cell_type": "code",
      "source": [
        "poly4=PolynomialFeatures(degree=4)\n",
        "X_train_poly4=poly4.fit_transform(X_train)\n",
        "X_test_poly4=poly4.transform(X_test)\n",
        "\n",
        "poly4_model=LinearRegression()\n",
        "poly4_model.fit(X_train_poly4,y_train)\n",
        "y_pred_poly4=poly4_model.predict(X_test_poly4)\n"
      ],
      "metadata": {
        "id": "2jamC8jBRmBA"
      },
      "execution_count": 44,
      "outputs": []
    },
    {
      "cell_type": "code",
      "source": [
        "X_train_poly4"
      ],
      "metadata": {
        "colab": {
          "base_uri": "https://localhost:8080/"
        },
        "id": "QS2rVL5WSDLp",
        "outputId": "32ea33f2-7a37-4315-e22e-de12e1cb806c"
      },
      "execution_count": 45,
      "outputs": [
        {
          "output_type": "execute_result",
          "data": {
            "text/plain": [
              "array([[1.000e+00, 3.000e+00, 9.000e+00, 2.700e+01, 8.100e+01],\n",
              "       [1.000e+00, 6.000e+00, 3.600e+01, 2.160e+02, 1.296e+03],\n",
              "       [1.000e+00, 1.000e+01, 1.000e+02, 1.000e+03, 1.000e+04],\n",
              "       ...,\n",
              "       [1.000e+00, 7.000e+00, 4.900e+01, 3.430e+02, 2.401e+03],\n",
              "       [1.000e+00, 8.000e+00, 6.400e+01, 5.120e+02, 4.096e+03],\n",
              "       [1.000e+00, 2.000e+00, 4.000e+00, 8.000e+00, 1.600e+01]])"
            ]
          },
          "metadata": {},
          "execution_count": 45
        }
      ]
    },
    {
      "cell_type": "code",
      "source": [
        "X_test_poly4"
      ],
      "metadata": {
        "colab": {
          "base_uri": "https://localhost:8080/"
        },
        "id": "eVb8Mcb6SFwA",
        "outputId": "69645693-b6a1-47c9-da2f-f613b8f983ab"
      },
      "execution_count": 46,
      "outputs": [
        {
          "output_type": "execute_result",
          "data": {
            "text/plain": [
              "array([[1.000e+00, 2.000e+00, 4.000e+00, 8.000e+00, 1.600e+01],\n",
              "       [1.000e+00, 8.000e+00, 6.400e+01, 5.120e+02, 4.096e+03],\n",
              "       [1.000e+00, 3.000e+00, 9.000e+00, 2.700e+01, 8.100e+01],\n",
              "       ...,\n",
              "       [1.000e+00, 1.000e+00, 1.000e+00, 1.000e+00, 1.000e+00],\n",
              "       [1.000e+00, 3.000e+00, 9.000e+00, 2.700e+01, 8.100e+01],\n",
              "       [1.000e+00, 0.000e+00, 0.000e+00, 0.000e+00, 0.000e+00]])"
            ]
          },
          "metadata": {},
          "execution_count": 46
        }
      ]
    },
    {
      "cell_type": "markdown",
      "source": [
        "- Metrics"
      ],
      "metadata": {
        "id": "VUEf7Pg9SoxZ"
      }
    },
    {
      "cell_type": "code",
      "source": [
        "mse_poly4=mean_squared_error(y_test,y_pred_poly4)\n",
        "rmse_poly4=np.sqrt(mse_poly4)\n",
        "r2_poly4=r2_score(y_test,y_pred_poly4)\n",
        "\n",
        "print(\"\\n Polynomial Regression(Degree 2):\")\n",
        "print(\"MSE:\",mse_poly2)\n",
        "print(\"RMSE:\",rmse_poly2)\n",
        "print(\"R2 Score:\",r2_poly2)\n",
        "\n",
        "print(\"\\n Polynomial Regression(Degree 4):\")\n",
        "print(\"MSE:\",mse_poly4)\n",
        "print(\"RMSE:\",rmse_poly4)\n",
        "print(\"R2 Score:\",r2_poly4)\n",
        "\n"
      ],
      "metadata": {
        "colab": {
          "base_uri": "https://localhost:8080/"
        },
        "id": "M-hXQi8kSGvJ",
        "outputId": "e8220496-a48b-48ab-d466-ebc59a0c965e"
      },
      "execution_count": 55,
      "outputs": [
        {
          "output_type": "stream",
          "name": "stdout",
          "text": [
            "\n",
            " Polynomial Regression(Degree 2):\n",
            "MSE: 726857249.7211918\n",
            "RMSE: 26960.290238074067\n",
            "R2 Score: 0.7467308484568018\n",
            "\n",
            " Polynomial Regression(Degree 4):\n",
            "MSE: 720033651.6859531\n",
            "RMSE: 26833.44278481524\n",
            "R2 Score: 0.7467308484568018\n"
          ]
        }
      ]
    },
    {
      "cell_type": "markdown",
      "source": [
        "## Visualization of All Model"
      ],
      "metadata": {
        "id": "T_ohZYIUUNBB"
      }
    },
    {
      "cell_type": "markdown",
      "source": [
        "- Generate Smooth Line for prediction"
      ],
      "metadata": {
        "id": "kaSdDo5VUTbR"
      }
    },
    {
      "cell_type": "code",
      "source": [
        "X_range=np.linspace(X.min(),X.max(),100).reshape(-1,1)\n",
        "\n",
        "#create DataFrame with column name\n",
        "X_range_df=pd.DataFrame(X_range,columns=[\"Years of Experience\"])\n",
        "\n",
        "#Transform using Polynomial Features\n",
        "X_range_poly2=poly2.transform(X_range_df)\n",
        "X_range_poly4=poly4.transform(X_range_df)\n",
        "\n",
        "#Predict using Polynomial Models\n",
        "y_range_line=lin_model.predict(X_range_df)\n",
        "y_range_poly2=poly2_model.predict(X_range_poly2)\n",
        "y_range_poly4=poly4_model.predict(X_range_poly4)\n",
        "\n",
        "#Plot\n",
        "plt.scatter(X,y,color=\"red\",label=\"Actual Data\")\n",
        "plt.plot(X_range,y_range_line,label='Linear Model',color=\"blue\")\n",
        "plt.plot(X_range,y_range_poly2,label='Polynomial Degree 2',color=\"green\")\n",
        "plt.plot(X_range,y_range_poly4,label='Polynomial Degree 4',color=\"orange\")\n",
        "plt.title(\"Model Comparison\")\n",
        "plt.xlabel(\"Years of Experience\")\n",
        "plt.ylabel(\"Salary\")\n",
        "plt.legend()\n",
        "plt.show()"
      ],
      "metadata": {
        "colab": {
          "base_uri": "https://localhost:8080/",
          "height": 472
        },
        "id": "L-z6PRkrT35B",
        "outputId": "9bd0d9e8-9093-4a3a-a0b1-aa63aad7f4a9"
      },
      "execution_count": 72,
      "outputs": [
        {
          "output_type": "display_data",
          "data": {
            "text/plain": [
              "<Figure size 640x480 with 1 Axes>"
            ],
            "image/png": "[encoded data removed]"
          },
          "metadata": {}
        }
      ]
    },
    {
      "cell_type": "markdown",
      "source": [
        "- Model Performance Comparision"
      ],
      "metadata": {
        "id": "s2ncNRjqYxpB"
      }
    },
    {
      "cell_type": "code",
      "source": [
        "metrics_df=pd.DataFrame({\n",
        "    \"Model\":[\"Linear\",\"Polynomial Degree 2\",\"Polynomial Degree 4\"],\n",
        "    \"MSE\":[mse_lin,mse_poly2,mse_poly4],\n",
        "    \"RMSE\":[rmse_lin,rmse_poly2,rmse_poly4],\n",
        "    \"R2 Score\":[r2_lin,r2_poly2,r2_poly4]\n",
        "\n",
        "})\n",
        "\n",
        "metrics_df.style.format({\n",
        "    \"MSE\":\"{:.2f}\",\n",
        "    \"RMSE\":\"{:.2f}\",\n",
        "    \"R2 Score\":\"{:.4f}\"\n",
        "})"
      ],
      "metadata": {
        "colab": {
          "base_uri": "https://localhost:8080/",
          "height": 143
        },
        "id": "93iZ7zNYVx5h",
        "outputId": "654fb070-91bd-4ac9-cad9-51a96a2f8170"
      },
      "execution_count": 70,
      "outputs": [
        {
          "output_type": "execute_result",
          "data": {
            "text/plain": [
              "<pandas.io.formats.style.Styler at 0x7c14d83c0110>"
            ],
            "text/html": [
              "<style type=\"text/css\">\n",
              "</style>\n",
              "<table id=\"T_43766\" class=\"dataframe\">\n",
              "  <thead>\n",
              "    <tr>\n",
              "      <th class=\"blank level0\" >&nbsp;</th>\n",
              "      <th id=\"T_43766_level0_col0\" class=\"col_heading level0 col0\" >Model</th>\n",
              "      <th id=\"T_43766_level0_col1\" class=\"col_heading level0 col1\" >MSE</th>\n",
              "      <th id=\"T_43766_level0_col2\" class=\"col_heading level0 col2\" >RMSE</th>\n",
              "      <th id=\"T_43766_level0_col3\" class=\"col_heading level0 col3\" >R2 Score</th>\n",
              "    </tr>\n",
              "  </thead>\n",
              "  <tbody>\n",
              "    <tr>\n",
              "      <th id=\"T_43766_level0_row0\" class=\"row_heading level0 row0\" >0</th>\n",
              "      <td id=\"T_43766_row0_col0\" class=\"data row0 col0\" >Linear</td>\n",
              "      <td id=\"T_43766_row0_col1\" class=\"data row0 col1\" >946833177.71</td>\n",
              "      <td id=\"T_43766_row0_col2\" class=\"data row0 col2\" >30770.65</td>\n",
              "      <td id=\"T_43766_row0_col3\" class=\"data row0 col3\" >0.6670</td>\n",
              "    </tr>\n",
              "    <tr>\n",
              "      <th id=\"T_43766_level0_row1\" class=\"row_heading level0 row1\" >1</th>\n",
              "      <td id=\"T_43766_row1_col0\" class=\"data row1 col0\" >Polynomial Degree 2</td>\n",
              "      <td id=\"T_43766_row1_col1\" class=\"data row1 col1\" >726857249.72</td>\n",
              "      <td id=\"T_43766_row1_col2\" class=\"data row1 col2\" >26960.29</td>\n",
              "      <td id=\"T_43766_row1_col3\" class=\"data row1 col3\" >0.7467</td>\n",
              "    </tr>\n",
              "    <tr>\n",
              "      <th id=\"T_43766_level0_row2\" class=\"row_heading level0 row2\" >2</th>\n",
              "      <td id=\"T_43766_row2_col0\" class=\"data row2 col0\" >Polynomial Degree 4</td>\n",
              "      <td id=\"T_43766_row2_col1\" class=\"data row2 col1\" >720033651.69</td>\n",
              "      <td id=\"T_43766_row2_col2\" class=\"data row2 col2\" >26833.44</td>\n",
              "      <td id=\"T_43766_row2_col3\" class=\"data row2 col3\" >0.7467</td>\n",
              "    </tr>\n",
              "  </tbody>\n",
              "</table>\n"
            ]
          },
          "metadata": {},
          "execution_count": 70
        }
      ]
    }
  ]
}