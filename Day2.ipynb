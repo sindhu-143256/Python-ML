{
  "cells": [
    {
      "cell_type": "markdown",
      "metadata": {
        "id": "NWkyCXyeaDV_"
      },
      "source": [
        "Control folw"
      ]
    },
    {
      "cell_type": "markdown",
      "metadata": {
        "id": "W0VmkLfvaH52"
      },
      "source": [
        "- Conditional statements"
      ]
    },
    {
      "cell_type": "code",
      "execution_count": null,
      "metadata": {
        "id": "yb5cmPRmOQMb"
      },
      "outputs": [],
      "source": [
        "#basic if-else\n",
        "def get_grade_letter(score):\n",
        " if score >=90:\n",
        "   return \"a\"\n",
        " elif score >=80:\n",
        "   return \"b\"\n",
        " elif score >=70:\n",
        "   return \"c\"\n",
        " elif score >=60:\n",
        "   return \"d\"\n",
        " else:\n",
        "   return \"e\""
      ]
    },
    {
      "cell_type": "markdown",
      "metadata": {
        "id": "s3VDitZ5aPF2"
      },
      "source": [
        "- Teat the funtion"
      ]
    },
    {
      "cell_type": "code",
      "execution_count": null,
      "metadata": {
        "colab": {
          "base_uri": "https://localhost:8080/"
        },
        "id": "1BWM5e5DQGJs",
        "outputId": "37028b43-be9a-4574-e990-e8c7127aa6e5"
      },
      "outputs": [
        {
          "name": "stdout",
          "output_type": "stream",
          "text": [
            "Score:95 Grade:a\n",
            "Score:83 Grade:b\n",
            "Score:72 Grade:c\n",
            "Score:65 Grade:d\n",
            "Score:58 Grade:e\n"
          ]
        }
      ],
      "source": [
        "test_scores=[95,83,72,65,58]\n",
        "for score in test_scores:\n",
        "  grade=get_grade_letter(score)\n",
        "  print(f\"Score:{score} Grade:{grade}\")"
      ]
    },
    {
      "cell_type": "markdown",
      "metadata": {
        "id": "DxnQS9zTaWOu"
      },
      "source": [
        "- Nested condition"
      ]
    },
    {
      "cell_type": "code",
      "execution_count": null,
      "metadata": {
        "id": "oDKitn0xQnh7"
      },
      "outputs": [],
      "source": [
        "def get_shipping_cost(weight,distance):\n",
        "  base_cost=5.0\n",
        "\n",
        "  if weight <=1:\n",
        "    weight_cost=2.0\n",
        "  elif weight <=5:\n",
        "      weight_cost=5.0\n",
        "  else:\n",
        "      weight_cost=10.0\n",
        "\n",
        "  if distance <=100:\n",
        "    distance_cost=1.0\n",
        "  elif distance <=500:\n",
        "    distance_cost=3.0\n",
        "  else:\n",
        "    distance_cost=7.0\n",
        "\n",
        "  return base_cost+weight_cost+distance_cost"
      ]
    },
    {
      "cell_type": "markdown",
      "metadata": {
        "id": "0vg-ykHBaqJ-"
      },
      "source": [
        "- Test shipping costs"
      ]
    },
    {
      "cell_type": "code",
      "execution_count": null,
      "metadata": {
        "colab": {
          "base_uri": "https://localhost:8080/"
        },
        "collapsed": true,
        "id": "6Sb3eaD1SD1k",
        "outputId": "1481ae3d-d093-4a58-ee5f-0cd744d7702b"
      },
      "outputs": [
        {
          "name": "stdout",
          "output_type": "stream",
          "text": [
            "Light,close:$8.0\n",
            "Heavy,far:$22.0\n"
          ]
        }
      ],
      "source": [
        "print(f\"Light,close:${get_shipping_cost(0.5,50)}\")\n",
        "print(f\"Heavy,far:${get_shipping_cost(10,800)}\")"
      ]
    },
    {
      "cell_type": "markdown",
      "metadata": {
        "id": "gLmEuyDSaw4W"
      },
      "source": [
        "Loops-For loop"
      ]
    },
    {
      "cell_type": "markdown",
      "metadata": {
        "id": "OAfQAHcfa1ue"
      },
      "source": [
        "- Basic for loop"
      ]
    },
    {
      "cell_type": "code",
      "execution_count": null,
      "metadata": {
        "colab": {
          "base_uri": "https://localhost:8080/"
        },
        "collapsed": true,
        "id": "aNJ1U9bmTCvs",
        "outputId": "451d9f22-9f2f-4220-b177-a299dfff31a0"
      },
      "outputs": [
        {
          "name": "stdout",
          "output_type": "stream",
          "text": [
            "i like apple\n",
            "i like banana\n",
            "i like orange\n",
            "i like grape\n"
          ]
        }
      ],
      "source": [
        "fruits=[\"apple\",\"banana\",\"orange\",\"grape\"]\n",
        "for fruit in fruits:\n",
        "  print(f\"i like {fruit}\")"
      ]
    },
    {
      "cell_type": "markdown",
      "metadata": {
        "id": "Q3eueZR6a9P2"
      },
      "source": [
        "- Loop with enumerate(get index)"
      ]
    },
    {
      "cell_type": "code",
      "execution_count": null,
      "metadata": {
        "colab": {
          "base_uri": "https://localhost:8080/"
        },
        "id": "DOoIHqxVUhMT",
        "outputId": "fde8f5bc-292c-4f63-a54a-18c6fe2c273c"
      },
      "outputs": [
        {
          "name": "stdout",
          "output_type": "stream",
          "text": [
            "1. apple\n",
            "2. banana\n",
            "3. orange\n",
            "4. grape\n"
          ]
        }
      ],
      "source": [
        "for i, fruit in enumerate(fruits):\n",
        "  print(f\"{i+1}. {fruit}\")"
      ]
    },
    {
      "cell_type": "markdown",
      "metadata": {
        "id": "_wTWeqL8bD9I"
      },
      "source": [
        "- Loop with range"
      ]
    },
    {
      "cell_type": "code",
      "execution_count": null,
      "metadata": {
        "colab": {
          "base_uri": "https://localhost:8080/"
        },
        "id": "FONhVGrLXxvE",
        "outputId": "55f6b6bf-036c-4a0d-d49b-57ce109236da"
      },
      "outputs": [
        {
          "name": "stdout",
          "output_type": "stream",
          "text": [
            "Day 1 of the week\n",
            "Day 2 of the week\n",
            "Day 3 of the week\n",
            "Day 4 of the week\n",
            "Day 5 of the week\n",
            "Day 6 of the week\n",
            "Day 7 of the week\n"
          ]
        }
      ],
      "source": [
        "for day in range(1,8):\n",
        "  print(f\"Day {day} of the week\")"
      ]
    },
    {
      "cell_type": "markdown",
      "metadata": {
        "id": "s3mmy2mSbLc-"
      },
      "source": [
        "- Nested loops-Creating a multiplication table"
      ]
    },
    {
      "cell_type": "code",
      "execution_count": null,
      "metadata": {
        "colab": {
          "base_uri": "https://localhost:8080/"
        },
        "id": "YWrS7dthYJVT",
        "outputId": "c2caea4f-cb68-4acb-c7b7-9cb6566b492a"
      },
      "outputs": [
        {
          "name": "stdout",
          "output_type": "stream",
          "text": [
            "Multiplication table\n",
            "1 X 1 = 1 \n",
            "1 X 2 = 2 \n",
            "1 X 3 = 3 \n",
            "1 X 4 = 4 \n",
            "1 X 5 = 5 \n",
            "2 X 1 = 2 \n",
            "2 X 2 = 4 \n",
            "2 X 3 = 6 \n",
            "2 X 4 = 8 \n",
            "2 X 5 =10 \n",
            "3 X 1 = 3 \n",
            "3 X 2 = 6 \n",
            "3 X 3 = 9 \n",
            "3 X 4 =12 \n",
            "3 X 5 =15 \n",
            "4 X 1 = 4 \n",
            "4 X 2 = 8 \n",
            "4 X 3 =12 \n",
            "4 X 4 =16 \n",
            "4 X 5 =20 \n",
            "5 X 1 = 5 \n",
            "5 X 2 =10 \n",
            "5 X 3 =15 \n",
            "5 X 4 =20 \n",
            "5 X 5 =25 \n"
          ]
        }
      ],
      "source": [
        "print(\"Multiplication table\")\n",
        "for i in range(1,6):\n",
        "  for j in range(1,6):\n",
        "    product =i * j\n",
        "    print(f\"{i} X {j} ={product:2d}\",end=\" \")\n",
        "    print()"
      ]
    },
    {
      "cell_type": "markdown",
      "metadata": {
        "id": "o67eC4f9bTcu"
      },
      "source": [
        "- Processing data with loops"
      ]
    },
    {
      "cell_type": "code",
      "execution_count": null,
      "metadata": {
        "colab": {
          "base_uri": "https://localhost:8080/"
        },
        "id": "4P6B00RoY8mJ",
        "outputId": "037cabb8-dfa4-439c-c984-689113219f72"
      },
      "outputs": [
        {
          "name": "stdout",
          "output_type": "stream",
          "text": [
            "laptop:$4999.95\n",
            "phone:$5999.9\n",
            "tablet:$1199.97\n",
            "Total revenue:$12199.819999999998\n"
          ]
        }
      ],
      "source": [
        "sales_data=[\n",
        "    {\"product\":\"laptop\",\"price\":999.99,\"quantity\":5},\n",
        "    {\"product\":\"phone\",\"price\":599.99,\"quantity\":10},\n",
        "    {\"product\":\"tablet\",\"price\":399.99,\"quantity\":3}\n",
        "]\n",
        "\n",
        "total_revenue=0\n",
        "\n",
        "for item in sales_data:\n",
        "  item_revenue=item[\"price\"]* item[\"quantity\"]\n",
        "  total_revenue += item_revenue\n",
        "  print(f\"{item['product']}:${item_revenue}\")\n",
        "\n",
        "print(f\"Total revenue:${total_revenue}\")"
      ]
    },
    {
      "cell_type": "markdown",
      "metadata": {
        "id": "erZvyBjgbbKX"
      },
      "source": [
        "- Loops-While loop"
      ]
    },
    {
      "cell_type": "code",
      "execution_count": null,
      "metadata": {
        "colab": {
          "base_uri": "https://localhost:8080/"
        },
        "id": "_zoPSJSdx1SF",
        "outputId": "85f54d44-52e6-4e52-f12c-364968d24695"
      },
      "outputs": [
        {
          "name": "stdout",
          "output_type": "stream",
          "text": [
            "Guess the number between 1 and 10\n",
            "Guess 1:10-Too high!\n",
            "Guess 2:10-Too high!\n",
            "Guess 3:1-Too low!\n",
            "Guess 4:3-Too low!\n",
            "Guess 5:10-Too high!\n",
            "Guess 6:7-Too high!\n",
            "Guess 7:7-Too high!\n",
            "Guess 8:8-Too high!\n",
            "Guess 9:5-Too high!\n",
            "Guess 10:9-Too high!\n",
            "Guess 11:6-Too high!\n",
            "Max attempts reached!\n",
            "Game finished in 11 attempts\n"
          ]
        }
      ],
      "source": [
        "def simple_guessing_game():\n",
        "  target=4\n",
        "  guess=0\n",
        "  attempts=0\n",
        "  print(\"Guess the number between 1 and 10\")\n",
        "\n",
        "  while guess!=target:\n",
        "\n",
        "    #simulate user input\n",
        "    import random\n",
        "    guess=random.randint(1,10)\n",
        "    attempts+=1\n",
        "\n",
        "    if guess <target:\n",
        "      print(f\"Guess {attempts}:{guess}-Too low!\")\n",
        "    elif guess>target:\n",
        "      print(f\"Guess {attempts}:{guess}-Too high!\")\n",
        "    else:\n",
        "      print(f\"Guess {attempts}:{guess}-Correct\")\n",
        "\n",
        "    #safety check\n",
        "    if attempts>10:\n",
        "      print(\"Max attempts reached!\")\n",
        "      break\n",
        "\n",
        "  print(f\"Game finished in {attempts} attempts\")\n",
        "\n",
        "simple_guessing_game()"
      ]
    },
    {
      "cell_type": "markdown",
      "metadata": {
        "id": "J4GuzkyHbirm"
      },
      "source": [
        "- While loop for processing"
      ]
    },
    {
      "cell_type": "code",
      "execution_count": null,
      "metadata": {
        "colab": {
          "base_uri": "https://localhost:8080/"
        },
        "id": "GtaFn08ey1H8",
        "outputId": "6e247d16-726f-4759-822e-eb1628c1d984"
      },
      "outputs": [
        {
          "name": "stdout",
          "output_type": "stream",
          "text": [
            "Processing:Task 1\n",
            "remaining tasks:3\n",
            "Processing:Task 2\n",
            "remaining tasks:2\n",
            "Processing:Task 3\n",
            "remaining tasks:1\n",
            "Processing:Task 4\n",
            "remaining tasks:0\n",
            "all tasks completed!\n"
          ]
        }
      ],
      "source": [
        "def process_queue():\n",
        " queue = [\"Task 1\",\"Task 2\",\"Task 3\",\"Task 4\"]\n",
        "\n",
        " while queue:\n",
        "   current_task=queue.pop(0)\n",
        "   print(f\"Processing:{current_task}\")\n",
        "\n",
        "   print(f\"remaining tasks:{len(queue)}\")\n",
        "\n",
        " print(\"all tasks completed!\")\n",
        "\n",
        "process_queue()"
      ]
    },
    {
      "cell_type": "markdown",
      "metadata": {
        "id": "7p3pSsJ0bvRe"
      },
      "source": [
        "Function basics\n",
        "\n",
        "Basic function definition\n",
        "\n",
        "\n"
      ]
    },
    {
      "cell_type": "code",
      "execution_count": null,
      "metadata": {
        "colab": {
          "background_save": true
        },
        "id": "8_RbkHe40-L0"
      },
      "outputs": [],
      "source": [
        "| def greet(name):\n",
        "  return f\"Hello,{name}\"\n"
      ]
    }
  ],
  "metadata": {
    "colab": {
      "provenance": []
    },
    "kernelspec": {
      "display_name": "Python 3",
      "name": "python3"
    },
    "language_info": {
      "name": "python"
    }
  },
  "nbformat": 4,
  "nbformat_minor": 0
}