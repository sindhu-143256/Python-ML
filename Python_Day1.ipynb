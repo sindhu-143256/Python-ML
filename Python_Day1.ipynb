{
  "nbformat": 4,
  "nbformat_minor": 0,
  "metadata": {
    "colab": {
      "provenance": []
    },
    "kernelspec": {
      "name": "python3",
      "display_name": "Python 3"
    },
    "language_info": {
      "name": "python"
    }
  },
  "cells": [
    {
      "cell_type": "code",
      "execution_count": null,
      "metadata": {
        "colab": {
          "base_uri": "https://localhost:8080/"
        },
        "id": "DBojKviOxNcq",
        "outputId": "9b48ab03-c609-4f06-c674-9d2c4fd0baf9"
      },
      "outputs": [
        {
          "output_type": "stream",
          "name": "stdout",
          "text": [
            "My name sindhu\n"
          ]
        }
      ],
      "source": [
        "    name=\"sindhu\"\n",
        "print(\"My name\",name)\n"
      ]
    },
    {
      "cell_type": "code",
      "source": [
        "print(\"Hello,world!\")\n",
        "x=5\n",
        "y=10"
      ],
      "metadata": {
        "colab": {
          "base_uri": "https://localhost:8080/"
        },
        "id": "3AFAFhPmGVh5",
        "outputId": "ff77e89a-dd36-4903-ecea-f87230c4f39f"
      },
      "execution_count": null,
      "outputs": [
        {
          "output_type": "stream",
          "name": "stdout",
          "text": [
            "Hello,world!\n"
          ]
        }
      ]
    },
    {
      "cell_type": "markdown",
      "source": [
        "**Indentation**"
      ],
      "metadata": {
        "id": "rjMdbm68Lv6A"
      }
    },
    {
      "cell_type": "code",
      "source": [
        " if x>0:\n",
        "  print(\"x is positive\")\n",
        "  print(\"this is inside the if block\")"
      ],
      "metadata": {
        "colab": {
          "base_uri": "https://localhost:8080/"
        },
        "id": "DjB8bqOfIn2B",
        "outputId": "8a121b23-93ab-4c32-84a5-e4b8977e216a"
      },
      "execution_count": null,
      "outputs": [
        {
          "output_type": "stream",
          "name": "stdout",
          "text": [
            "x is positive\n",
            "this is inside the if block\n"
          ]
        }
      ]
    },
    {
      "cell_type": "markdown",
      "source": [
        "**Numeric** **Types**"
      ],
      "metadata": {
        "id": "hQEdoJwCJ5oo"
      }
    },
    {
      "cell_type": "code",
      "source": [
        "age=20\n",
        "height=5.5\n",
        "complex_num=3+4j"
      ],
      "metadata": {
        "id": "hQbnWy2-JgOR"
      },
      "execution_count": null,
      "outputs": []
    },
    {
      "cell_type": "markdown",
      "source": [
        "**String** **Type**"
      ],
      "metadata": {
        "id": "Qkh4LwQNKLiA"
      }
    },
    {
      "cell_type": "code",
      "source": [
        "name=\"sindhu\"\n",
        "message=\"Hello World\"\n",
        "multine=\"\"\"This is a\n",
        "multiline string\"\"\""
      ],
      "metadata": {
        "id": "8SvYMGIwKW8A"
      },
      "execution_count": null,
      "outputs": []
    },
    {
      "cell_type": "markdown",
      "source": [
        "**Boolean Type**"
      ],
      "metadata": {
        "id": "KmuRkgT9NH-Q"
      }
    },
    {
      "cell_type": "code",
      "source": [
        "is_active=True\n",
        "is_finished=False\n"
      ],
      "metadata": {
        "id": "CkH-YuHdNLmQ"
      },
      "execution_count": null,
      "outputs": []
    },
    {
      "cell_type": "markdown",
      "source": [
        "**Type Checking**"
      ],
      "metadata": {
        "id": "KwkuYjQbNV7A"
      }
    },
    {
      "cell_type": "code",
      "source": [
        "print(type(age))\n",
        "print(type(height))\n",
        "print(type(name))\n"
      ],
      "metadata": {
        "colab": {
          "base_uri": "https://localhost:8080/"
        },
        "id": "KkrQpOgcNbao",
        "outputId": "94284939-2866-4b61-fac6-348f3a6de0ec"
      },
      "execution_count": null,
      "outputs": [
        {
          "output_type": "stream",
          "name": "stdout",
          "text": [
            "<class 'int'>\n",
            "<class 'float'>\n",
            "<class 'str'>\n"
          ]
        }
      ]
    },
    {
      "cell_type": "markdown",
      "source": [
        "**Type conversion**"
      ],
      "metadata": {
        "id": "0rKS40bBNzKp"
      }
    },
    {
      "cell_type": "code",
      "source": [
        "str_number=\"123\"\n",
        "int_number=int(str_number)\n",
        "float_number=float(str_number)\n",
        "\n",
        "\n",
        "print(f\"Original:{str_number} (type:{type(str_number)})\")\n",
        "print(f\"Integer:{int_number} (type:{type(int_number)})\")\n",
        "print(f\"Float:{float_number} (type:{type(float_number)})\")"
      ],
      "metadata": {
        "colab": {
          "base_uri": "https://localhost:8080/"
        },
        "id": "hjyjyP7IN25w",
        "outputId": "9e700006-c983-449e-8924-325393caced8"
      },
      "execution_count": null,
      "outputs": [
        {
          "output_type": "stream",
          "name": "stdout",
          "text": [
            "Original:123 (type:<class 'str'>)\n",
            "Integer:123 (type:<class 'int'>)\n",
            "Float:123.0 (type:<class 'float'>)\n"
          ]
        }
      ]
    },
    {
      "cell_type": "markdown",
      "source": [
        "**Create variables for personal information**"
      ],
      "metadata": {
        "id": "hhdIyXGIhtNh"
      }
    },
    {
      "cell_type": "code",
      "source": [
        "first_name=\"Sindhu\"\n",
        "last_name=\"Gudagur\"\n",
        "age=20\n",
        "height=5.5\n",
        "is_student=True\n",
        "print(\"Name:\",first_name,last_name)\n",
        "print(\"Age:\",age)\n",
        "print(\"Height:\",height)\n",
        "print(\"Student:\",is_student)"
      ],
      "metadata": {
        "colab": {
          "base_uri": "https://localhost:8080/"
        },
        "id": "xr0vYeSqiB0w",
        "outputId": "bc3097e7-2879-4936-9716-59ec6d229736"
      },
      "execution_count": null,
      "outputs": [
        {
          "output_type": "stream",
          "name": "stdout",
          "text": [
            "Name: Sindhu Gudagur\n",
            "Age: 20\n",
            "Height: 5.5\n",
            "Student: True\n"
          ]
        }
      ]
    },
    {
      "cell_type": "markdown",
      "source": [
        "**Type conversion**"
      ],
      "metadata": {
        "id": "5JqhQZeVj3ex"
      }
    },
    {
      "cell_type": "code",
      "source": [
        "age_str=str(age)\n",
        "height_int=int(height)\n",
        "print(f\"Age as string:{age_str}\")\n",
        "print(f\"Height as integer:{height_int}\")\n"
      ],
      "metadata": {
        "colab": {
          "base_uri": "https://localhost:8080/"
        },
        "id": "NIr2RV3Ti6Rp",
        "outputId": "176d8358-e828-4e8a-b1db-6bc05bde91ea"
      },
      "execution_count": null,
      "outputs": [
        {
          "output_type": "stream",
          "name": "stdout",
          "text": [
            "Age as string:20\n",
            "Height as integer:5\n"
          ]
        }
      ]
    },
    {
      "cell_type": "markdown",
      "source": [
        "**Operators and Basic Operations**"
      ],
      "metadata": {
        "id": "7BhB76drlO7C"
      }
    },
    {
      "cell_type": "markdown",
      "source": [
        "- Arithmetic Oparators"
      ],
      "metadata": {
        "id": "9LDIoAXLmDmy"
      }
    },
    {
      "cell_type": "code",
      "source": [
        "a=10\n",
        "b=4\n",
        "\n",
        "\n",
        "print(f\"Addition:{a}+{b}={a+b}\")\n",
        "print(f\"Subtraction:{a}-{b}={a-b}\")\n",
        "print(f\"Multiplication:{a}*{b}={a*b}\")\n",
        "print(f\"Division:{a}/{b}={a/b}\")\n",
        "print(f\"Floor Division:{a}//{b}={a//b}\")\n",
        "print(f\"Modulus:{a}%{b}={a%b}\")\n",
        "print(f\"EXponentiation:{a}**{b}={a**b}\")"
      ],
      "metadata": {
        "colab": {
          "base_uri": "https://localhost:8080/"
        },
        "id": "tQy-bBXGldch",
        "outputId": "3dd7a105-44ff-47c3-f911-4ffe4b7cbea6"
      },
      "execution_count": null,
      "outputs": [
        {
          "output_type": "stream",
          "name": "stdout",
          "text": [
            "Addition:10+4=14\n",
            "Subtraction:10-4=6\n",
            "Multiplication:10*4=40\n",
            "Division:10/4=2.5\n",
            "Floor Division:10//4=2\n",
            "Modulus:10%4=2\n",
            "EXponentiation:10**4=10000\n"
          ]
        }
      ]
    },
    {
      "cell_type": "markdown",
      "source": [
        "**Order of oparations(PEMDAS)**\n",
        "\n",
        "- P-Parantheses\n",
        "- E-Exponents\n",
        "- M-Multiplication\n",
        "- D-Division\n",
        "- A-Addition\n",
        "- S-Subtraction"
      ],
      "metadata": {
        "id": "hSIDOIruo7TK"
      }
    },
    {
      "cell_type": "code",
      "source": [
        "result=2+3*7**4-8\n",
        "print(\"2+3*7**4-8=\",result)"
      ],
      "metadata": {
        "colab": {
          "base_uri": "https://localhost:8080/"
        },
        "id": "opMO4NPNnwEq",
        "outputId": "d847b44c-8b8e-42e3-9a67-e2f9939597a4"
      },
      "execution_count": null,
      "outputs": [
        {
          "output_type": "stream",
          "name": "stdout",
          "text": [
            "2+3*7**4-8= 7197\n"
          ]
        }
      ]
    },
    {
      "cell_type": "markdown",
      "source": [
        "**Relational oparators(or) Comparison**"
      ],
      "metadata": {
        "id": "qbDEGj4Kr75i"
      }
    },
    {
      "cell_type": "code",
      "source": [
        "x=5\n",
        "y=9\n",
        "\n",
        "\n",
        "print(x==y)\n",
        "print(x!=y)\n",
        "print(x<y)\n",
        "print(x>y)\n",
        "print(x<=y)\n",
        "print(x>=y)"
      ],
      "metadata": {
        "colab": {
          "base_uri": "https://localhost:8080/"
        },
        "id": "SgESJhjisP6R",
        "outputId": "43229b28-fcae-44dc-9b16-f626d2b1c7b4"
      },
      "execution_count": null,
      "outputs": [
        {
          "output_type": "stream",
          "name": "stdout",
          "text": [
            "False\n",
            "True\n",
            "True\n",
            "False\n",
            "True\n",
            "False\n"
          ]
        }
      ]
    },
    {
      "cell_type": "markdown",
      "source": [
        "**String comparison**"
      ],
      "metadata": {
        "id": "w-TuEigrtLZ6"
      }
    },
    {
      "cell_type": "code",
      "source": [
        "name1=\"Sindhu\"\n",
        "name2=\"Abhinaya\"\n",
        "print(f\"'{name1}'<'{name2}':{name1 < name2}\")"
      ],
      "metadata": {
        "colab": {
          "base_uri": "https://localhost:8080/"
        },
        "id": "DAsO08EltQaJ",
        "outputId": "df84af6d-2387-42cd-bd8c-34de34c426fa"
      },
      "execution_count": null,
      "outputs": [
        {
          "output_type": "stream",
          "name": "stdout",
          "text": [
            "'Sindhu'<'Abhinaya':False\n"
          ]
        }
      ]
    },
    {
      "cell_type": "markdown",
      "source": [
        "**Logical oparators**"
      ],
      "metadata": {
        "id": "b_0nBhSDu5Ma"
      }
    },
    {
      "cell_type": "code",
      "source": [
        "p=True\n",
        "q=False\n",
        "\n",
        "\n",
        "print(\"p and q:\",p and q)\n",
        "print(\"p or q:\",p or q)\n",
        "print(\"not p:\",not p)"
      ],
      "metadata": {
        "colab": {
          "base_uri": "https://localhost:8080/"
        },
        "id": "KKNxhTQIvemp",
        "outputId": "82bb433f-852b-4dce-e8da-db09a4b16482"
      },
      "execution_count": null,
      "outputs": [
        {
          "output_type": "stream",
          "name": "stdout",
          "text": [
            "p and q: False\n",
            "p or q: True\n",
            "not p: False\n"
          ]
        }
      ]
    },
    {
      "cell_type": "code",
      "source": [
        "# Practical Example\n",
        "age=20\n",
        "has_license=True\n",
        "can_drive=age>18 and has_license\n",
        "print(\"can drive:\",can_drive)"
      ],
      "metadata": {
        "colab": {
          "base_uri": "https://localhost:8080/"
        },
        "id": "P8xyRrR8wxeC",
        "outputId": "b190fd4f-dab4-4878-b72a-ce3b821e1f23"
      },
      "execution_count": null,
      "outputs": [
        {
          "output_type": "stream",
          "name": "stdout",
          "text": [
            "can drive: True\n"
          ]
        }
      ]
    },
    {
      "cell_type": "code",
      "source": [
        "#Multiple comditions\n",
        "score=80\n",
        "is_present=True\n",
        "can_pass=score>=80 and is_present\n",
        "print(\"Pass:\",can_pass)"
      ],
      "metadata": {
        "colab": {
          "base_uri": "https://localhost:8080/"
        },
        "id": "XqQ2E305xQRS",
        "outputId": "2020b34b-1f7f-4d32-8d11-4a019bf80041"
      },
      "execution_count": null,
      "outputs": [
        {
          "output_type": "stream",
          "name": "stdout",
          "text": [
            "Pass: True\n"
          ]
        }
      ]
    },
    {
      "cell_type": "code",
      "source": [
        "#persanal information\n",
        "age=21\n",
        "annual_income=50000\n",
        "credit_score=720\n",
        "has_collateral=True\n",
        "\n"
      ],
      "metadata": {
        "id": "8rRu88u0ysCS"
      },
      "execution_count": null,
      "outputs": []
    },
    {
      "cell_type": "code",
      "source": [
        "#Loan criteria\n",
        "min_age=18\n",
        "min_income=30000\n",
        "min_credit_score=650\n",
        "is_eligible=age>=min_age or credit_score>= min_credit and annual_income>=min_income\n",
        "print(\"Eligible for loan:\",is_eligible)\n",
        "\n"
      ],
      "metadata": {
        "colab": {
          "base_uri": "https://localhost:8080/"
        },
        "id": "faMOrpaPzP3y",
        "outputId": "f4f901a1-3786-49b5-98ee-ab071c0fbc4c"
      },
      "execution_count": null,
      "outputs": [
        {
          "output_type": "stream",
          "name": "stdout",
          "text": [
            "Eligible for loan: True\n"
          ]
        }
      ]
    },
    {
      "cell_type": "code",
      "source": [
        "#Check qualifications\n",
        "age_qualified=age>=min_age\n",
        "income_qualified=annual_income>=min_income\n",
        "credit_qualified=credit_score>=min_credit_score\n",
        "overall_qualified=age_qualified and income_qualified and credit_qualified\n",
        "print(overall_qualified)"
      ],
      "metadata": {
        "colab": {
          "base_uri": "https://localhost:8080/"
        },
        "id": "rcXLuVN23iFT",
        "outputId": "59fa82d7-e493-4924-a356-d1b6c2eab1f1"
      },
      "execution_count": null,
      "outputs": [
        {
          "output_type": "stream",
          "name": "stdout",
          "text": [
            "True\n"
          ]
        }
      ]
    },
    {
      "cell_type": "markdown",
      "source": [
        "**DATA STRUCTURES**"
      ],
      "metadata": {
        "id": "gKonjk1o-rb7"
      }
    },
    {
      "cell_type": "markdown",
      "source": [
        "- Lists\n",
        "\n",
        "Creating lists"
      ],
      "metadata": {
        "id": "Hpt3Ku5j-y90"
      }
    },
    {
      "cell_type": "code",
      "source": [
        "fruits=[\"apple\",\"banana\",\"orange\",\"grape\"]\n",
        "number=[10,20,30,40]\n",
        "mixed_data=[1,\"Hello\",3.24,True]"
      ],
      "metadata": {
        "id": "1VaqFMeM-yOS"
      },
      "execution_count": null,
      "outputs": []
    },
    {
      "cell_type": "markdown",
      "source": [
        "- List indexing(O-based)"
      ],
      "metadata": {
        "id": "j3m2HkwS_Wgz"
      }
    },
    {
      "cell_type": "code",
      "source": [
        "print(f\"first 2 fruit:{fruits[0:2]}\")\n",
        "print(f\"Last 2 fruits:{fruits[-2:]}\")\n",
        "print(f\"All except first:{fruits[1:]}\")"
      ],
      "metadata": {
        "colab": {
          "base_uri": "https://localhost:8080/"
        },
        "id": "oxmy9KDu_eoq",
        "outputId": "fc268ca5-1bdf-4e9b-feed-0d2c9acaa54a"
      },
      "execution_count": null,
      "outputs": [
        {
          "output_type": "stream",
          "name": "stdout",
          "text": [
            "first 2 fruit:['apple', 'banana']\n",
            "Last 2 fruits:['orange', 'grape']\n",
            "All except first:['banana', 'orange', 'grape']\n"
          ]
        }
      ]
    },
    {
      "cell_type": "markdown",
      "source": [
        "- Lists Methods"
      ],
      "metadata": {
        "id": "numq_MY-ApzF"
      }
    },
    {
      "cell_type": "code",
      "source": [
        "fruits.append(\"kiwi\")\n",
        "fruits.insert(1,\"strawberry\")\n",
        "removed=fruits.pop()\n",
        "print(f\"Updated list:{fruits}\")\n",
        "print(f\"Removed:{removed}\")"
      ],
      "metadata": {
        "colab": {
          "base_uri": "https://localhost:8080/"
        },
        "id": "TgR6nPghAtKS",
        "outputId": "a8d48761-e03a-4781-fe2e-4a7e6decd3ea"
      },
      "execution_count": null,
      "outputs": [
        {
          "output_type": "stream",
          "name": "stdout",
          "text": [
            "Updated list:['apple', 'strawberry', 'banana', 'orange', 'grape']\n",
            "Removed:kiwi\n"
          ]
        }
      ]
    },
    {
      "cell_type": "markdown",
      "source": [
        "\n",
        "\n",
        "- List oparations"
      ],
      "metadata": {
        "id": "97Fh4THWCHaf"
      }
    },
    {
      "cell_type": "code",
      "source": [
        "print(f\"Lenght:{len(fruits)}\")\n",
        "print(f\"Contains 'apple':{'apple'in fruits}\")\n",
        "print(f\"Index of 'banana':{fruits.index('banana')}\")"
      ],
      "metadata": {
        "colab": {
          "base_uri": "https://localhost:8080/"
        },
        "id": "kA6sNPGKCOYC",
        "outputId": "ea3292c2-aca3-48ff-ea0d-0d26b7a21050"
      },
      "execution_count": null,
      "outputs": [
        {
          "output_type": "stream",
          "name": "stdout",
          "text": [
            "Lenght:5\n",
            "Contains 'apple':True\n",
            "Index of 'banana':2\n"
          ]
        }
      ]
    },
    {
      "cell_type": "markdown",
      "source": [
        "**Tuples**"
      ],
      "metadata": {
        "id": "-aUouQFtDEof"
      }
    },
    {
      "cell_type": "markdown",
      "source": [
        "- Tuples are immutable"
      ],
      "metadata": {
        "id": "2Y2bbyvQDH0b"
      }
    },
    {
      "cell_type": "code",
      "source": [
        "coordinates=(10,20)\n",
        "rgb_color=(255,128,0)\n",
        "person_info=(\"Alice\",25,\"Engineer\",True)"
      ],
      "metadata": {
        "id": "Y5NYC3PADLdL"
      },
      "execution_count": null,
      "outputs": []
    },
    {
      "cell_type": "markdown",
      "source": [
        "- Tuple unpacking"
      ],
      "metadata": {
        "id": "8ygsoH6vDnwc"
      }
    },
    {
      "cell_type": "code",
      "source": [
        "x,y = coordinates\n",
        "print(f\"X:{x}, Y:{y}\")\n"
      ],
      "metadata": {
        "colab": {
          "base_uri": "https://localhost:8080/"
        },
        "id": "ENlSyOtpDsfi",
        "outputId": "76ac85c1-30ae-465b-b835-ddebf2a8b266"
      },
      "execution_count": null,
      "outputs": [
        {
          "output_type": "stream",
          "name": "stdout",
          "text": [
            "X:10, Y:20\n"
          ]
        }
      ]
    },
    {
      "cell_type": "markdown",
      "source": [
        "- Tuples method"
      ],
      "metadata": {
        "id": "Mwr_-X4hFIWM"
      }
    },
    {
      "cell_type": "code",
      "source": [
        "print(f\"Count of 25:{person_info.count(25)}\")\n",
        "print(f\"Index of 'Engineer':{person_info.index('Engineer')}\")"
      ],
      "metadata": {
        "colab": {
          "base_uri": "https://localhost:8080/"
        },
        "id": "iNK7htsKFHo0",
        "outputId": "7f313114-0b2d-4e75-a3fd-9f4fab9f476f"
      },
      "execution_count": null,
      "outputs": [
        {
          "output_type": "stream",
          "name": "stdout",
          "text": [
            "Count of 25:1\n",
            "Index of 'Engineer':2\n"
          ]
        }
      ]
    },
    {
      "cell_type": "markdown",
      "source": [
        "**Dictionaries**\n",
        "\n",
        "\n",
        "- Dictionary Creation"
      ],
      "metadata": {
        "id": "vlam_uyU_xPS"
      }
    },
    {
      "cell_type": "code",
      "source": [
        "person={\n",
        "\"name\":\"sindhu Gouda\",\n",
        "\"age\":20,\n",
        "\"profession\":\"software engineer\",\n",
        "\"salary\":30000,\n",
        "\"skills\":[\"python\",\"javascript\",\"SQL\"]\n",
        "}\n"
      ],
      "metadata": {
        "id": "0LZt81Nd_9t7"
      },
      "execution_count": null,
      "outputs": []
    },
    {
      "cell_type": "markdown",
      "source": [
        "- Accessing values"
      ],
      "metadata": {
        "id": "fYrY9k8nEijD"
      }
    },
    {
      "cell_type": "code",
      "source": [
        "print(f\"Name:{person['name']}\")\n",
        "print(f\"Age:{person.get('age','unknown')}\")\n"
      ],
      "metadata": {
        "colab": {
          "base_uri": "https://localhost:8080/"
        },
        "id": "QnRythvUEnvr",
        "outputId": "5d6eaffe-8bcd-4516-de25-15cec44d97c0"
      },
      "execution_count": null,
      "outputs": [
        {
          "output_type": "stream",
          "name": "stdout",
          "text": [
            "Name:sindhu Gouda\n",
            "Age:20\n"
          ]
        }
      ]
    },
    {
      "cell_type": "markdown",
      "source": [
        "- Dictionary methods"
      ],
      "metadata": {
        "id": "PkFHVis7FVbU"
      }
    },
    {
      "cell_type": "code",
      "source": [
        "print(f\"Keys:{person.keys()}\")\n",
        "print(f\"Values:{person.values()}\")\n",
        "print(f\"Items:{person.items()}\")"
      ],
      "metadata": {
        "colab": {
          "base_uri": "https://localhost:8080/"
        },
        "id": "t1LjNCVpFXxr",
        "outputId": "14d88437-e345-4578-bcf7-ac8ad011c3cb"
      },
      "execution_count": null,
      "outputs": [
        {
          "output_type": "stream",
          "name": "stdout",
          "text": [
            "Keys:dict_keys(['name', 'age', 'profession', 'salary', 'skills'])\n",
            "Values:dict_values(['sindhu Gouda', 20, 'software engineer', 30000, ['python', 'javascript', 'SQL']])\n",
            "Items:dict_items([('name', 'sindhu Gouda'), ('age', 20), ('profession', 'software engineer'), ('salary', 30000), ('skills', ['python', 'javascript', 'SQL'])])\n"
          ]
        }
      ]
    },
    {
      "cell_type": "markdown",
      "source": [
        "- Adding/updating"
      ],
      "metadata": {
        "id": "y5ffZF6EF-ZL"
      }
    },
    {
      "cell_type": "code",
      "source": [
        "person[\"location\"]=\"India\"\n",
        "person[\"salary\"]=50000"
      ],
      "metadata": {
        "id": "7D8NG_03GDBc"
      },
      "execution_count": null,
      "outputs": []
    },
    {
      "cell_type": "markdown",
      "source": [
        "**Practical use case:Inventory management**"
      ],
      "metadata": {
        "id": "zGOJM7wqGXQK"
      }
    },
    {
      "cell_type": "code",
      "source": [
        "inventory={\n",
        "    \"laptops\":{\n",
        "        \"quantity\":50,\n",
        "        \"price\":999.99\n",
        "    },\n",
        "    \"phones\":{\n",
        "        \"quantity\":100,\n",
        "        \"price\":599.99\n",
        "    },\n",
        "    \"tablets\":{\n",
        "        \"quantity\":30,\n",
        "        \"price\":399.99\n",
        "    }\n",
        "}"
      ],
      "metadata": {
        "id": "AORNxePPGgtb"
      },
      "execution_count": null,
      "outputs": []
    },
    {
      "cell_type": "markdown",
      "source": [
        "**Nested access**"
      ],
      "metadata": {
        "id": "khMFec9iHIa7"
      }
    },
    {
      "cell_type": "code",
      "source": [
        "print(f\"Laptop price:${inventory['laptops']['price']}\")\n"
      ],
      "metadata": {
        "colab": {
          "base_uri": "https://localhost:8080/"
        },
        "id": "_SIoMAMeHL_T",
        "outputId": "9ad495ab-d646-47d0-f29c-bfa4fab32cf6"
      },
      "execution_count": null,
      "outputs": [
        {
          "output_type": "stream",
          "name": "stdout",
          "text": [
            "Laptop price:$999.99\n"
          ]
        }
      ]
    },
    {
      "cell_type": "markdown",
      "source": [
        "**Sets**\n",
        "\n",
        "- Sets containes unique elements"
      ],
      "metadata": {
        "id": "SpVqN71XHfvb"
      }
    },
    {
      "cell_type": "code",
      "source": [
        "colors={\"red\",\"green\",\"blue\",\"red\"}\n",
        "print(f\"colors:{colors}\")"
      ],
      "metadata": {
        "colab": {
          "base_uri": "https://localhost:8080/"
        },
        "id": "OZhogJnMHiOz",
        "outputId": "bc21daab-37c1-4271-e5e9-9d26e5f3dd92"
      },
      "execution_count": null,
      "outputs": [
        {
          "output_type": "stream",
          "name": "stdout",
          "text": [
            "colors:{'green', 'blue', 'red'}\n"
          ]
        }
      ]
    },
    {
      "cell_type": "markdown",
      "source": [
        "- Set oparations"
      ],
      "metadata": {
        "id": "xycgnzb_IC7E"
      }
    },
    {
      "cell_type": "code",
      "source": [
        "team1_skills={\"Python\",\"javascript\",\"SQL\",\"React\"}\n",
        "team2_skills={\"Python\",\"javascript\",\"SQL\",\"spring\"}"
      ],
      "metadata": {
        "id": "i_xWyB1xJo-D"
      },
      "execution_count": null,
      "outputs": []
    },
    {
      "cell_type": "markdown",
      "source": [
        "- Common oparation"
      ],
      "metadata": {
        "id": "v_UpyyP2KIbr"
      }
    },
    {
      "cell_type": "code",
      "source": [
        "print(f\"Common skills:{team1_skills.intersection(team2_skills)}\")\n",
        "print(f\"All skills:{team1_skills.union(team2_skills)}\")\n",
        "print(f\"team1 unique skills:{team1_skills.difference(team2_skills)}\")"
      ],
      "metadata": {
        "colab": {
          "base_uri": "https://localhost:8080/"
        },
        "id": "5mkOBOBFKNYi",
        "outputId": "ca7ccf89-1a88-4285-dd36-1fcea9f4a327"
      },
      "execution_count": null,
      "outputs": [
        {
          "output_type": "stream",
          "name": "stdout",
          "text": [
            "Common skills:{'Python', 'javascript', 'SQL'}\n",
            "All skills:{'React', 'javascript', 'spring', 'SQL', 'Python'}\n",
            "team1 unique skills:{'React'}\n"
          ]
        }
      ]
    },
    {
      "cell_type": "markdown",
      "source": [
        "- Adding sets"
      ],
      "metadata": {
        "id": "BEGgI_HGLEtb"
      }
    },
    {
      "cell_type": "code",
      "source": [
        "colors.add(\"yellow\")\n",
        "colors.update([\"purple\",\"orange\"])\n",
        "print(f\"Updated colors:{colors}\")\n"
      ],
      "metadata": {
        "colab": {
          "base_uri": "https://localhost:8080/"
        },
        "id": "xoZAuDTiLHyr",
        "outputId": "4ce106c3-d0b8-4d73-8531-381577085da9"
      },
      "execution_count": null,
      "outputs": [
        {
          "output_type": "stream",
          "name": "stdout",
          "text": [
            "Updated colors:{'blue', 'orange', 'red', 'green', 'yellow', 'purple'}\n"
          ]
        }
      ]
    },
    {
      "cell_type": "code",
      "source": [
        "people=[\n",
        "    {\"name\":\"Alice\",\"age\":30},\n",
        "    {\"name\":\"Bob\",\"age\":25},\n",
        "    {\"name\":\"Eve\",\"age\":35},\n",
        "]\n",
        "sorted_people=sorted(people,key=lambda person:person[\"age\"])\n",
        "print(f\"Sorted people by age:\")\n",
        "for person in sorted_people:\n",
        "  print(f\"{person['name']}:{person['age']}\")"
      ],
      "metadata": {
        "colab": {
          "base_uri": "https://localhost:8080/"
        },
        "id": "uhq1eIm2Ik6t",
        "outputId": "ea4ff6cc-5e43-4b5f-84ac-b3129440eb3b"
      },
      "execution_count": null,
      "outputs": [
        {
          "output_type": "stream",
          "name": "stdout",
          "text": [
            "Sorted people by age:\n",
            "Bob:25\n",
            "Alice:30\n",
            "Eve:35\n"
          ]
        }
      ]
    }
  ]
}